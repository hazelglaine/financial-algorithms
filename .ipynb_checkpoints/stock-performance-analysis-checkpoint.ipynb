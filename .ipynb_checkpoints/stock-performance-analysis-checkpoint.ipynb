{
 "cells": [
  {
   "cell_type": "code",
   "execution_count": 1,
   "id": "7cc38d5e-3c99-4e92-8167-eaa185bd638e",
   "metadata": {},
   "outputs": [
    {
     "data": {
      "text/html": [
       "        <script type=\"text/javascript\">\n",
       "        window.PlotlyConfig = {MathJaxConfig: 'local'};\n",
       "        if (window.MathJax && window.MathJax.Hub && window.MathJax.Hub.Config) {window.MathJax.Hub.Config({SVG: {font: \"STIX-Web\"}});}\n",
       "        if (typeof require !== 'undefined') {\n",
       "        require.undef(\"plotly\");\n",
       "        requirejs.config({\n",
       "            paths: {\n",
       "                'plotly': ['https://cdn.plot.ly/plotly-2.32.0.min']\n",
       "            }\n",
       "        });\n",
       "        require(['plotly'], function(Plotly) {\n",
       "            window._Plotly = Plotly;\n",
       "        });\n",
       "        }\n",
       "        </script>\n",
       "        "
      ]
     },
     "metadata": {},
     "output_type": "display_data"
    }
   ],
   "source": [
    "# IMPORTING LIBRARIES\n",
    "\n",
    "# Libraries for data handling and statistical analysis\n",
    "import pandas as pd\n",
    "from pandas_datareader import data\n",
    "import numpy as np\n",
    "from scipy import stats\n",
    "\n",
    "# Libraries for data visualization\n",
    "import matplotlib.pyplot as plt\n",
    "import seaborn as sns\n",
    "import plotly.express as px\n",
    "import plotly.graph_objects as go\n",
    "from plotly.subplots import make_subplots\n",
    "from plotly.offline import init_notebook_mode\n",
    "init_notebook_mode(connected=True)\n",
    "\n",
    "# Libraries for optimization and allocation\n",
    "from pypfopt.efficient_frontier import EfficientFrontier\n",
    "from pypfopt import risk_models\n",
    "from pypfopt import expected_returns\n",
    "from pypfopt import black_litterman, BlackLittermanModel\n",
    "\n",
    "# Libraries for financial data\n",
    "import quantstats as qs\n",
    "import ta\n",
    "import yfinance as yf\n",
    "import requests\n",
    "\n",
    "# Libraries for machine learning models\n",
    "from sklearn.linear_model import LinearRegression\n",
    "\n",
    "# Libraries for data and time and disabling warnings\n",
    "import datetime as dt\n",
    "import warnings\n",
    "warnings.filterwarnings(\"ignore\")"
   ]
  },
  {
   "cell_type": "markdown",
   "id": "d9cbfe0c-9eca-4dc1-b5a5-95199de57c86",
   "metadata": {},
   "source": [
    "# Sector Performance\n",
    "Investigating the performance of each sector from Jan 2020 to Aug 2024, we aim to capture the impact of the pandemic on the following sectors: <b>(1) Financials, (2) Technology, (3) Energy, (4) Consumer Discretionary, (5) Consumer Staples, (6) Healthcare, (7) Industrials, (8) Materials, (9) Utilities, (10) Real Estate, and (11) Communication Services</b>."
   ]
  },
  {
   "cell_type": "code",
   "execution_count": 2,
   "id": "61d1a02c-1a9d-46b5-892f-b5561028e97f",
   "metadata": {},
   "outputs": [
    {
     "name": "stderr",
     "output_type": "stream",
     "text": [
      "[*********************100%%**********************]  11 of 11 completed"
     ]
    },
    {
     "name": "stdout",
     "output_type": "stream",
     "text": [
      "Ticker\n",
      "XLB     0.664035\n",
      "XLC     0.645674\n",
      "XLE     0.886838\n",
      "XLF     0.540437\n",
      "XLI     0.659851\n",
      "XLK     1.443113\n",
      "XLP     0.403910\n",
      "XLRE    0.252945\n",
      "XLU     0.317929\n",
      "XLV     0.573459\n",
      "XLY     0.535836\n",
      "Name: 2024-07-31 00:00:00, dtype: float64\n"
     ]
    },
    {
     "name": "stderr",
     "output_type": "stream",
     "text": [
      "\n"
     ]
    },
    {
     "data": {
      "image/png": "[encoded data removed]",
      "text/plain": [
       "<Figure size 1000x600 with 1 Axes>"
      ]
     },
     "metadata": {},
     "output_type": "display_data"
    }
   ],
   "source": [
    "import yfinance as yf\n",
    "\n",
    "# List of sector ETFs\n",
    "sector_etfs = {\n",
    "    'Financials': 'XLF',\n",
    "    'Technology': 'XLK',\n",
    "    'Energy': 'XLE',\n",
    "    'Consumer Discretionary': 'XLY',\n",
    "    'Consumer Staples': 'XLP',\n",
    "    'Health Care': 'XLV',\n",
    "    'Industrials': 'XLI',\n",
    "    'Materials': 'XLB',\n",
    "    'Utilities': 'XLU',\n",
    "    'Real Estate': 'XLRE',\n",
    "    'Communication Services': 'XLC'\n",
    "}\n",
    "\n",
    "# Downloading data for a specific time period\n",
    "start_date = '2020-01-01'\n",
    "end_date = '2024-08-01'\n",
    "sector_data = yf.download(list(sector_etfs.values()), start=start_date, end=end_date)['Adj Close']\n",
    "\n",
    "# Calculating cumulative returns\n",
    "sector_returns = sector_data.pct_change().add(1).cumprod() - 1\n",
    "sector_final_returns = sector_returns.iloc[-1]\n",
    "\n",
    "print(sector_final_returns)\n",
    "\n",
    "# Plotting sector returns\n",
    "sector_final_returns.plot(kind='bar', figsize=(10, 6))\n",
    "plt.title('Sector Returns')\n",
    "plt.xlabel('Sector')\n",
    "plt.ylabel('Return')\n",
    "plt.show()"
   ]
  },
  {
   "cell_type": "markdown",
   "id": "51328c6c-a981-4c38-a5ea-368257ceb68e",
   "metadata": {},
   "source": [
    "Considering the cumulative returns across sectors, we observe that stocks in <b>Technology and Energy have the highest returns</b> with Technology having a greater advantage. Meanwhile, stocks in <b>Real Estate and Utilities</b> performed the lowest. It is also worth noting that sectors driven by consumer spending have shown modest cumulative returns, showing slow economic activity during the time period considered."
   ]
  },
  {
   "cell_type": "code",
   "execution_count": 3,
   "id": "5ee52973-f9ac-412c-98b9-68b1acb62d66",
   "metadata": {},
   "outputs": [
    {
     "name": "stdout",
     "output_type": "stream",
     "text": [
      "No data found for sector: Financials\n",
      "Data found for sector: Technology\n",
      "Data found for sector: Energy\n",
      "No data found for sector: Consumer Discretionary\n",
      "No data found for sector: Consumer Staples\n",
      "No data found for sector: Health Care\n",
      "Data found for sector: Industrials\n",
      "Data found for sector: Materials\n",
      "Data found for sector: Utilities\n",
      "Data found for sector: Real Estate\n",
      "Data found for sector: Communication Services\n"
     ]
    }
   ],
   "source": [
    "sector_tickers = {}\n",
    "apikey = \"3o9TxxBd6hEt7qvL84dleqKGXw6E07U2\"\n",
    "\n",
    "# API endpoint for Financial Modeling Prep\n",
    "for sector in sector_etfs:\n",
    "    url = f\"https://financialmodelingprep.com/api/v3/stock-screener?sector={sector}&apikey={apikey}\"\n",
    "    response = requests.get(url)\n",
    "\n",
    "    # Check if the request was successful\n",
    "    if response.status_code == 200:\n",
    "        stocks_data = response.json()\n",
    "        if not stocks_data:\n",
    "            print(f\"No data found for sector: {sector}\")\n",
    "        else:\n",
    "            print(f\"Data found for sector: {sector}\")\n",
    "        ticker_list = [stock['symbol'] for stock in stocks_data]\n",
    "        sector_tickers[sector] = ticker_list\n",
    "    else:\n",
    "        print(f\"Error: Unable to fetch data. Status code: {response.status_code}\")  "
   ]
  },
  {
   "cell_type": "code",
   "execution_count": 29,
   "id": "b7687a73-10d0-467c-bf8d-7462b205cfb6",
   "metadata": {},
   "outputs": [],
   "source": [
    "# Create a dictionary of the sector_tickers with available data\n",
    "data_keys = [key for key, value in sector_tickers.items() if value != []]\n",
    "filtered_dict = {key: sector_tickers[key] for key in data_keys}"
   ]
  },
  {
   "cell_type": "code",
   "execution_count": 30,
   "id": "6153c637-ffcf-44c0-bf57-21cd15d47054",
   "metadata": {},
   "outputs": [
    {
     "name": "stderr",
     "output_type": "stream",
     "text": [
      "[*********************100%%**********************]  1000 of 1000 completed\n",
      "\n",
      "108 Failed downloads:\n",
      "['ROOD.AS', 'EINC.TO', 'JCS', 'MICT', 'EBIX', 'AYX', 'KLR', 'FORG', 'BSQR', 'WTT', 'CDAY', 'RENN', 'EVOP', 'ESMT', 'COUP', 'POLY', 'DCT', 'ALTVO.PA', 'ALFOC.PA', 'NETE', 'ZFOX', 'MIXT', 'AMOT', 'ALYA', 'SESL.PA', 'CREE', 'WETG', 'ORDI.AS', 'FATH', 'TESS', 'PAYA', 'STM.PA', 'OTMO', 'CD', 'CAJ', 'OIIM', 'MAGT.TO', 'MVP.TO', 'TIE.AS', 'MTBL', 'INS', 'EXR.IR', 'MODN', 'MOSY', 'FLT', 'SPLK', 'BRKS', 'TSRI', 'RAAS', 'CIS.BR', 'ABST', 'RBT', 'PLAN', 'ATVI', 'PCTI', 'QFOR.TO', 'NATI', 'MNTV', 'CVT', 'PBTS', 'NCR', 'SUMO', 'VLDR', 'TGAN', 'MAXR.TO', 'INCO.BR', 'CDAY.TO', 'SSNT', 'NEWR', 'AVID', 'STIX', 'PWFL', 'GBOX', 'INPX', 'DPSI', 'FDGE.TO', 'ABST.TO', 'BKI', 'GSKY', 'MAXR', 'ITE.PA', 'PID.PA', 'EVBG', 'VMW', 'LVOX', 'SRT', 'EMAN', 'SWIR', 'CIH', 'NLOK', 'AGIL', 'EMBK', 'SNPO', 'LLNW', 'GET', 'SCPL', 'CTG', 'IDBA', 'XM', 'SII.PA', 'VIAO', 'IBMA.BR', 'WSTG', 'IIVI']: YFTzMissingError('$%ticker%: possibly delisted; No timezone found')\n",
      "['ALF']: YFChartError(\"%ticker%: Data doesn't exist for startDate = 1577854800, endDate = 1722484800\")\n",
      "['YVR', 'MCLD', 'CYXT']: YFInvalidPeriodError(\"%ticker%: Period 'max' is invalid, must be one of ['1d', '5d']\")\n",
      "[*********************100%%**********************]  495 of 495 completed\n",
      "\n",
      "89 Failed downloads:\n",
      "['PBFX', 'WLL', 'GLOG-PA', 'CNU.TO', 'CELP', 'CEQP', 'SGQ.TO', 'GPP', 'SRX.TO', 'CPI.TO', 'NEX', 'ESTE', 'PIPE.TO', 'MCF', 'SUNW', 'GDP', 'TGP', 'NNA', 'GLOP', 'RDSA.AS', 'NS', 'ENBL', 'FTSI', 'AZZ.TO', 'CPG', 'NSS', 'MMP', 'ERF', 'SNP', 'APY.TO', 'PXD', 'IPL.TO', 'PZQA.IR', 'HHRS', 'EXTN', 'DSSI', 'PVAC', 'TGA', 'USWS', 'DEN', 'ZEST', 'XEC', 'XOG', 'INT', 'SHLX', 'LPI', 'CET.TO', 'OMP', 'MNRL', 'SRLP', 'MROIL.BR', 'SHI', 'LFDE.PA', 'TANNZ', 'PTR', 'TNP', 'ENBA', 'DCP', 'ESN.TO', 'P8ET.IR', 'PSXP', 'SNMP', 'FORZ.TO', 'IO', 'LONE', 'CSM.TO', 'CEO', 'RDS-B', 'HEP', 'MLJSA.PA', 'FTI.PA', 'CLB.AS', 'ROCC', 'CGG.PA', 'ERF.TO', 'BKEP', 'COG', 'ISUN', 'CPE', 'TQW.IR', 'HE.TO', 'HMLP', 'CCLP', 'BPMP', 'CLR', 'RDSB.AS', 'FLMN']: YFTzMissingError('$%ticker%: possibly delisted; No timezone found')\n",
      "['PDCE', 'ALPS']: YFInvalidPeriodError(\"%ticker%: Period 'max' is invalid, must be one of ['1d', '5d']\")\n",
      "[***************       32%%                      ]  316 of 1000 completed"
     ]
    },
    {
     "name": "stdout",
     "output_type": "stream",
     "text": [
      "$ALOBR.PA: possibly delisted; No price data found  (1d 2020-01-01 -> 2024-08-01)\n"
     ]
    },
    {
     "name": "stderr",
     "output_type": "stream",
     "text": [
      "[**********************88%%****************      ]  882 of 1000 completed"
     ]
    },
    {
     "name": "stdout",
     "output_type": "stream",
     "text": [
      "$STLRU: possibly delisted; No price data found  (1d 2020-01-01 -> 2024-08-01)\n"
     ]
    },
    {
     "name": "stderr",
     "output_type": "stream",
     "text": [
      "[*********************100%%**********************]  1000 of 1000 completed\n",
      "\n",
      "111 Failed downloads:\n",
      "['EFN-PA.TO', 'NES', 'CGRN', 'SIA.BR', 'HYRE', 'YELL', 'ATTO', 'AURS.PA', 'MAJ.AS', 'NXTD', 'SP', 'SNC.TO', 'XBC.TO', 'MAN.PA', 'MLROU.PA', 'PIC.BR', 'RADA', 'PATI', 'INFO', 'CNHI', 'TRTN', 'ZNH', 'ZEV', 'USX', 'VRTV', 'HRT', 'HSC', 'CAI', 'SGOC', 'AIMC', 'PGTI', 'DOOR', 'ABB', 'EGLE', 'CATR.PA', 'NM', 'ORE.LS', 'CHRA', 'CEA', 'VOLT', 'RAVN', 'NEWA', 'SYX', 'WIRE', 'KAMN', 'GOL', 'NLSN', 'PFSW', 'SX.PA', 'BGRY', 'HHR', 'MLCIO.PA', 'IAA', 'TDCX', 'RE.PA', 'PAE', 'SMED', 'AENZ', 'MKUL', 'TSP', 'LGT-B.TO', 'TGH', 'MLUMH.PA', 'MLCAS.PA', 'CUB.TO', 'AJRD', 'ALD.PA', 'BHTG', 'FBHS', 'LAWS', 'RRD', 'OBCI', 'NILE', 'ADES', 'RCII', 'AQUA', 'GFLU', 'BRDS', 'HCCI', 'PFIN', 'ARNC', 'OEG', 'VVNT', 'AAWW', 'ORANW.AS', 'DRTT', 'ALDR.PA', 'USAK', 'CIR', 'SDH', 'MLAAE.PA', 'WBT', 'WLMS', 'OIG', 'KIQ', 'NETI', 'EFL.TO', 'SCX', 'DSKE']: YFTzMissingError('$%ticker%: possibly delisted; No timezone found')\n",
      "['PROBT.PA', 'SPECW', 'CEADW', 'KWESW', 'VORB', 'ATCX', 'CRESW', 'ALJJ', 'PYR']: YFInvalidPeriodError(\"%ticker%: Period 'max' is invalid, must be one of ['1d', '5d']\")\n",
      "['ALOBR.PA', 'STLRU']: YFPricesMissingError('$%ticker%: possibly delisted; No price data found  (1d 2020-01-01 -> 2024-08-01)')\n",
      "['RITR']: YFChartError(\"%ticker%: Data doesn't exist for startDate = 1577854800, endDate = 1722484800\")\n",
      "[******************    37%%                      ]  243 of 665 completed"
     ]
    },
    {
     "name": "stdout",
     "output_type": "stream",
     "text": [
      "$XGC.TO: possibly delisted; No price data found  (1d 2020-01-01 -> 2024-08-01)\n"
     ]
    },
    {
     "name": "stderr",
     "output_type": "stream",
     "text": [
      "[**********************76%%**********            ]  503 of 665 completedFailed to get ticker 'GSV.TO' reason: HTTPSConnectionPool(host='www.yahoo.com', port=443): Read timed out.\n",
      "[*********************100%%**********************]  665 of 665 completed\n",
      "\n",
      "110 Failed downloads:\n",
      "['CRMLW', 'ASTLW', 'FMSTW', 'AMRS']: YFInvalidPeriodError(\"%ticker%: Period 'max' is invalid, must be one of ['1d', '5d']\")\n",
      "['INV.TO', 'AXU', 'MOZ.TO', 'FOE', 'UEX.TO', 'RFP.TO', 'TRQ', 'EXN', 'UFS', 'GPL', 'GGA.TO', 'CINR', 'EOX.TO', 'MLBAT.PA', 'FR.TO', 'TRQ.TO', 'OSN', 'AXU.TO', 'BBL-A.TO', 'TREC', 'TV.TO', 'GSS', 'TMST', 'DSM.AS', 'ENGB.BR', 'AAU', 'CRG.IR', 'TNX.TO', 'MLPFX.PA', 'IKNX', 'NEXA.TO', 'PQG', 'RX.PA', 'KL', 'PCA.PA', 'HRT.TO', 'SMTS', 'TML.TO', 'NCM.TO', 'EUR.PA', 'NZC.TO', 'ZY', 'OMI.TO', 'CMMC.TO', 'VNTR', 'AYM.TO', 'UFS.TO', 'LTHM', 'AQA.TO', 'KMCM', 'KL.TO', 'SYNL', 'CCF', 'GCM.TO', 'SVFD', 'HZM.TO', 'NHK.TO', 'NSR', 'DNT.TO', 'PLM', 'PFB.TO', 'POM.TO', 'GRA', 'GPR.TO', 'UNVR', 'KRA', 'SBB.TO', 'USCR', 'ME.TO', 'YRI.TO', 'ORL.TO', 'RFP', 'MMX.TO', 'KOR.TO', 'GSV.TO', 'GBAR.TO', 'EXAC.PA', 'MBII', 'GSC.TO', 'SCHN', 'NP', 'ANX.TO', 'NB.TO', 'MMX', 'MTL', 'AKE.TO', 'JOSE.TO', 'VRS', 'GCP', 'MKD', 'BBL', 'VEDL', 'SWM', 'ORQ1.IR', 'NSR.TO', 'PVG', 'MAW.TO', 'ACH', 'AUY', 'REC.BR', 'NIF-UN.TO', 'CXN.TO', 'GLG', 'OREA.TO', 'PVG.TO']: YFTzMissingError('$%ticker%: possibly delisted; No timezone found')\n",
      "['XGC.TO']: YFPricesMissingError('$%ticker%: possibly delisted; No price data found  (1d 2020-01-01 -> 2024-08-01)')\n",
      "[**********************47%%                      ]  101 of 214 completed"
     ]
    },
    {
     "name": "stdout",
     "output_type": "stream",
     "text": [
      "$EAI: possibly delisted; No price data found  (1d 2020-01-01 -> 2024-08-01)\n"
     ]
    },
    {
     "name": "stderr",
     "output_type": "stream",
     "text": [
      "[*********************100%%**********************]  214 of 214 completed\n",
      "\n",
      "29 Failed downloads:\n",
      "['LFG', 'RXN', 'BIP-PD.TO', 'MLEES.PA', 'ABIO.PA', 'HNP', 'SEV.PA', 'BEP-PK.TO', 'GWR.TO', 'AQNU', 'ALHEO.PA', 'ALP-PQ', 'RNW.TO', 'CPX-PI.TO', 'ELIQ', 'MIC', 'HEO.TO', 'SJI', 'ETX.TO', 'CU-X.TO', 'ENIA', 'IPLDP', 'EDF.PA', 'SPG.TO', 'ALA-PK.TO', 'JE', 'EON.BR']: YFTzMissingError('$%ticker%: possibly delisted; No timezone found')\n",
      "['EAI']: YFPricesMissingError('$%ticker%: possibly delisted; No price data found  (1d 2020-01-01 -> 2024-08-01)')\n",
      "['FLXE']: YFInvalidPeriodError(\"%ticker%: Period 'max' is invalid, must be one of ['1d', '5d']\")\n",
      "[*********************100%%**********************]  584 of 584 completed\n",
      "\n",
      "86 Failed downloads:\n",
      "['AAIC', 'RCO-UN.TO', 'RTL', 'SNR', 'INTO.BR', 'CLNY', 'FPN.PA', 'LEJU', 'MGP', 'FATL.PA', 'TRMT', 'OFC', 'HMG', 'HBRN.IR', 'BPY-UN.TO', 'VER', 'WOLE.BR', 'INDT', 'NRZ', 'WMC', 'WPG', 'MLPAP.PA', 'GGE', 'BRG', 'TCN.TO', 'AIRC', 'DRE', 'ACC', 'PSB', 'SRC', 'CDOR', 'UBA', 'BRMK', 'IRCP', 'WRI', 'ALNOR.LS', 'WIR-U.TO', 'WRE', 'LSI', 'CMO', 'STOR', 'OBAS', 'CLNC', 'DTLA-P', 'CTT', 'CIAN', 'AFIN', 'TCN', 'LEAS.BR', 'STAR', 'NTP', 'CUF-UN.TO', 'REAX.TO', 'SMU-UN.TO', 'GENK.BR', 'CXP', 'APTS', 'HHC', 'ML350.PA', 'QTS', 'LMRK', 'RPT', 'BERR.PA', 'CPLG', 'CONE', 'CORR', 'BEFB.BR', 'FLJ', 'PEI', 'RLGY', 'BPYU', 'HCDI', 'RVI', 'CAPLI.PA', 'WIR-UN.TO', 'HTA', 'RPAI', 'HT', 'CLI', 'HGSH', 'BPY']: YFTzMissingError('$%ticker%: possibly delisted; No timezone found')\n",
      "['MLMR.LS', 'MLBAR.PA', 'FSPR', 'SFR', 'MLIPO.PA']: YFInvalidPeriodError(\"%ticker%: Period 'max' is invalid, must be one of ['1d', '5d']\")\n",
      "[*************         27%%                      ]  113 of 426 completed"
     ]
    },
    {
     "name": "stdout",
     "output_type": "stream",
     "text": [
      "$MLNEO.PA: possibly delisted; No price data found  (1d 2020-01-01 -> 2024-08-01)\n"
     ]
    },
    {
     "name": "stderr",
     "output_type": "stream",
     "text": [
      "[*********************100%%**********************]  426 of 426 completed\n",
      "\n",
      "91 Failed downloads:\n",
      "['ALANT.PA', 'ALBUD.PA', 'MOXC', 'ALMAK.PA', 'QUOT', 'MIMO', 'RDBX', 'STRN', 'EGLX', 'SOGO', 'VG', 'LORL', 'ECP.PA', 'AUD', 'BODY', 'TISN.BR', 'TPCO', 'MBT', 'DTEL.BR', 'MDCA', 'ALMNG.PA', 'CIDM', 'LIZI', 'TIGOR', 'AUTO', 'MSGN', 'PTS.TO', 'GNUS', 'OIBR-C', 'SJR', 'MLIOC.PA', 'WWE', 'ATY', 'MTSL', 'TWTR', 'HCHC', 'AESE', 'ALP.PA', 'UZA', 'PCOM', 'ALEMK.BR', 'FAZE', 'ALPLA.PA', 'SFUN', 'TDA', 'GTT', 'ALSK', 'QTT', 'LIVX', 'GSMG', 'ADTH', 'MDP', 'TFA.BR', 'TCH.PA', 'ROI', 'HMTV', 'DISH', 'TRL.TO', 'RADI', 'MLAUD.PA', 'AHC', 'MDF.TO', 'TNET.BR', 'QTEK', 'ALATF.PA', 'LOV', 'TCHCS.PA', 'PTNR', 'ALKER.PA', 'ISIG', 'BBTV.TO', 'FLE.AS', 'HOP.PA', 'BLCT', 'VERIZ.BR', 'EMWP', 'TRKA', 'AMOV', 'SJR-B.TO', 'ILD.PA', 'GCT.TO', 'ALFIL.PA', 'DMS', 'BRILL.AS', 'ADUX.PA', 'CBB', 'AT.TO', 'IDW', 'ALMTA.PA', 'ALADM.PA']: YFTzMissingError('$%ticker%: possibly delisted; No timezone found')\n",
      "['MLNEO.PA']: YFPricesMissingError('$%ticker%: possibly delisted; No price data found  (1d 2020-01-01 -> 2024-08-01)')\n"
     ]
    }
   ],
   "source": [
    "# Create a dictionary of the top performing stocks for each sectors\n",
    "for key in filtered_dict:\n",
    "    temp_list = filtered_dict[key]\n",
    "    data = yf.download(temp_list, start=start_date, end=end_date)['Adj Close']\n",
    "    cumulative_returns = (data.iloc[-1] / data.iloc[0] - 1) * 100  # Convert to percentage\n",
    "    temp_df = pd.DataFrame({\n",
    "        'Cumulative Return (%)': cumulative_returns\n",
    "    })\n",
    "    temp_df.index.name = 'Ticker'\n",
    "    temp_df = temp_df.sort_values(by='Cumulative Return (%)', ascending=False)\n",
    "    top_stocks = temp_df.head(10)\n",
    "    filtered_dict[key] = top_stocks.index.tolist()"
   ]
  },
  {
   "cell_type": "code",
   "execution_count": null,
   "id": "0317eee3-d5de-4b44-ba27-44b6059538b2",
   "metadata": {},
   "outputs": [],
   "source": []
  }
 ],
 "metadata": {
  "kernelspec": {
   "display_name": "Python 3 (ipykernel)",
   "language": "python",
   "name": "python3"
  },
  "language_info": {
   "codemirror_mode": {
    "name": "ipython",
    "version": 3
   },
   "file_extension": ".py",
   "mimetype": "text/x-python",
   "name": "python",
   "nbconvert_exporter": "python",
   "pygments_lexer": "ipython3",
   "version": "3.9.18"
  }
 },
 "nbformat": 4,
 "nbformat_minor": 5
}
